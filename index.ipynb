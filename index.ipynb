{
 "cells": [
  {
   "cell_type": "markdown",
   "metadata": {},
   "source": [
    "# Wildlife Camera Trap Classifier\n",
    "\n",
    "> Computer Vision"
   ]
  },
  {
   "cell_type": "markdown",
   "metadata": {},
   "source": [
    "This section of notebooks document the making of a computer vision pipeline created to automatically ingest photos (jpegs) collected from camera traps and sort them into useful classes defined by the user. \n",
    "\n",
    "\n",
    "* __Why?__\n",
    "\n",
    "Camera traps offer vital information about an ecosystem for wildlife management. The manual sorting of hundreds of thousands of images however, is a labor intensive process and puts a constraint on the amount of information that can be extracted in a reasonable amount of time. If there were a way to automatically sort images with algorithms, more could be captured and more information could be extracted. \n",
    "\n",
    "\n",
    "* __How?__\n",
    "\n",
    "The code here in written in Python and is built off the of the Pytorch library using Fastai [(course v3)](https://course.fast.ai/part2) as a guide. We're using deep convolutional neural networks (CNNs) for our model architecture.\n",
    "\n",
    "* __Warning__\n",
    "\n",
    "This documentation lays out the project but does not include the actual data or trained models. Hopefully, this implementation offers a practical guide and will be reusable on other species of animals / datasets with similar characteristics (i.e. camera traps). "
   ]
  },
  {
   "cell_type": "markdown",
   "metadata": {},
   "source": [
    "### Photos / Data\n",
    "\n",
    "Our data comes from camera traps that were setup in September of 2019 on a private ranch in South Texas. These camera traps have a night mode and a day mode and were set to take a 3 photo burst everything time motion was detected. \n",
    "\n",
    "In total our dataset consisted of around 56,000 photos. \n",
    "\n",
    "They look something like this...\n",
    "\n",
    "![](images/IMG_0019s.JPG)\n",
    "\n",
    "This photo is a full color day shot. \n",
    "\n",
    "The camera traps are set up over feeding bins to document the Whitetail deer coming to feed. \n",
    "\n",
    "![](images/IMG_0083s.JPG)\n",
    "\n",
    "This is a grayscale night shot. "
   ]
  },
  {
   "cell_type": "markdown",
   "metadata": {},
   "source": [
    "### Inference Pipeline\n",
    "\n",
    "v1.0 relies on a chain of binary classifiers to sort the images into useful categories.\n",
    "\n",
    "Each classifier examines each image passed to it and makes a predication as to whether the image is of class 1 or class 2. \n",
    "\n",
    "In the final stage, when we have winnowed down the images, we will apply an Object Detection model to make one final classification. \n",
    "\n",
    "1. Chain of binary CNN classifiers\n",
    "2. Object Detection CNN\n",
    "\n",
    "The downside of this technique is that though we are removing images as we get further downstream some images will have multiple predictions - and this is computationally inefficient. Later versions may experiment with different techniques like multi-label or multi-class. \n",
    "\n",
    "\n",
    "The chain of binary classifiers is illustrated below:\n",
    "\n",
    "![](images/deervision.png)\n"
   ]
  },
  {
   "cell_type": "code",
   "execution_count": 1,
   "metadata": {},
   "outputs": [
    {
     "name": "stdout",
     "output_type": "stream",
     "text": [
      "Converted 01_eda.ipynb.\n",
      "Converted 02_labelling.ipynb.\n",
      "Converted index.ipynb.\n"
     ]
    }
   ],
   "source": [
    "#hide\n",
    "from nbdev.export import notebook2script\n",
    "notebook2script()"
   ]
  },
  {
   "cell_type": "code",
   "execution_count": 2,
   "metadata": {},
   "outputs": [],
   "source": [
    "#hide\n",
    "from nbdev.export2html import notebook2html\n",
    "notebook2html()"
   ]
  },
  {
   "cell_type": "code",
   "execution_count": null,
   "metadata": {},
   "outputs": [],
   "source": []
  }
 ],
 "metadata": {
  "kernelspec": {
   "display_name": "Python 3",
   "language": "python",
   "name": "python3"
  },
  "language_info": {
   "codemirror_mode": {
    "name": "ipython",
    "version": 3
   },
   "file_extension": ".py",
   "mimetype": "text/x-python",
   "name": "python",
   "nbconvert_exporter": "python",
   "pygments_lexer": "ipython3",
   "version": "3.8.2"
  }
 },
 "nbformat": 4,
 "nbformat_minor": 2
}
